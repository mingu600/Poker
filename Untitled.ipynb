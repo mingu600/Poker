{
 "cells": [
  {
   "cell_type": "code",
   "execution_count": 1,
   "metadata": {
    "collapsed": false
   },
   "outputs": [
    {
     "name": "stderr",
     "output_type": "stream",
     "text": [
      "Using TensorFlow backend.\n"
     ]
    }
   ],
   "source": [
    "#USAGE python exp_replay.py model_path experiences_path\n",
    "\n",
    "# Imports\n",
    "import numpy as np\n",
    "import numpy.random as npr\n",
    "import pandas as pd\n",
    "import math\n",
    "import csv\n",
    "from keras.models import load_model\n",
    "from keras.models import Sequential\n",
    "from keras.layers import Dense, Activation\n",
    "import sys\n",
    "import pdb\n",
    "\n",
    "action = 7\n",
    "reward = 8\n",
    "columns = 15\n",
    "chunksize =40\n",
    "file_size = 1000\n",
    "\n",
    "def load_models(model_path):\n",
    "    training_model = load_model(model_path)\n",
    "    target_model = load_model(model_path)\n",
    "    return (training_model, target_model)\n",
    "\n",
    "def load_data(experiences_path,target_model,epochs,chunksize):\n",
    "\n",
    "#iterate over dataset a certain number of times\n",
    "    for epoch in range(epochs):\n",
    "        #read in data in chunks\n",
    "        df = pd.read_table(experiences_path,chunksize=chunksize)\n",
    "        for chunk in df:\n",
    "\n",
    "            #separate into end-of-hand and not end-of-hand states\n",
    "            chunk.iloc[:,reward] = chunk.iloc[:,reward] + (0 if chunk.iloc[:,reward+1].isNull() else ndarray.max(target_model.predict_on_batch(chunk.iloc[:,reward+1:]),axis=1))\n",
    "            cols = list(chunk.columns)\n",
    "            yield (chunk.iloc[:,:action].values,chunk.iloc[:,[action,reward]].values)\n",
    "\n",
    "def train(train_model,data_gen,epochs,batches,m_path):\n",
    "    for epoch in range(epochs):\n",
    "        for batch in range(batches):\n",
    "            b = next(data_gen)\n",
    "            labels = train_model.predict_on_batch(b[0])\n",
    "            labels[b[1][:,0]] = b[1][:,1]\n",
    "            train_model.train_on_batch(b[0],labels, verbose=1)\n",
    "    model.save(m_path)\n",
    "\n"
   ]
  },
  {
   "cell_type": "code",
   "execution_count": 7,
   "metadata": {
    "collapsed": false
   },
   "outputs": [
    {
     "ename": "TypeError",
     "evalue": "'TextFileReader' object does not support indexing",
     "output_type": "error",
     "traceback": [
      "\u001b[0;31m---------------------------------------------------------------------------\u001b[0m",
      "\u001b[0;31mTypeError\u001b[0m                                 Traceback (most recent call last)",
      "\u001b[0;32m<ipython-input-7-3225e364ffd8>\u001b[0m in \u001b[0;36m<module>\u001b[0;34m()\u001b[0m\n\u001b[0;32m----> 1\u001b[0;31m \u001b[0mhi\u001b[0m\u001b[0;34m[\u001b[0m\u001b[0;36m0\u001b[0m\u001b[0;34m]\u001b[0m\u001b[0;34m\u001b[0m\u001b[0m\n\u001b[0m",
      "\u001b[0;31mTypeError\u001b[0m: 'TextFileReader' object does not support indexing"
     ]
    }
   ],
   "source": [
    "for "
   ]
  },
  {
   "cell_type": "code",
   "execution_count": 14,
   "metadata": {
    "collapsed": false
   },
   "outputs": [
    {
     "data": {
      "text/html": [
       "<div>\n",
       "<table border=\"1\" class=\"dataframe\">\n",
       "  <thead>\n",
       "    <tr style=\"text-align: right;\">\n",
       "      <th></th>\n",
       "      <th>0</th>\n",
       "      <th>1</th>\n",
       "      <th>2</th>\n",
       "      <th>3</th>\n",
       "      <th>4</th>\n",
       "      <th>5</th>\n",
       "      <th>6</th>\n",
       "      <th>7</th>\n",
       "      <th>8</th>\n",
       "      <th>9</th>\n",
       "      <th>10</th>\n",
       "      <th>11</th>\n",
       "      <th>12</th>\n",
       "      <th>13</th>\n",
       "      <th>14</th>\n",
       "      <th>15</th>\n",
       "    </tr>\n",
       "  </thead>\n",
       "  <tbody>\n",
       "    <tr>\n",
       "      <th>0</th>\n",
       "      <td>0.200000</td>\n",
       "      <td>1</td>\n",
       "      <td>0.600000</td>\n",
       "      <td>0.400000</td>\n",
       "      <td>0.500000</td>\n",
       "      <td>0.600000</td>\n",
       "      <td>0</td>\n",
       "      <td>1</td>\n",
       "      <td>0</td>\n",
       "      <td>0.777778</td>\n",
       "      <td>1</td>\n",
       "      <td>0.50000</td>\n",
       "      <td>0.50000</td>\n",
       "      <td>0.375000</td>\n",
       "      <td>1.000000</td>\n",
       "      <td>1</td>\n",
       "    </tr>\n",
       "    <tr>\n",
       "      <th>1</th>\n",
       "      <td>0.300000</td>\n",
       "      <td>0</td>\n",
       "      <td>0.175439</td>\n",
       "      <td>0.824561</td>\n",
       "      <td>0.347826</td>\n",
       "      <td>0.403509</td>\n",
       "      <td>0</td>\n",
       "      <td>1</td>\n",
       "      <td>0</td>\n",
       "      <td>0.000000</td>\n",
       "      <td>0</td>\n",
       "      <td>0.12963</td>\n",
       "      <td>0.87037</td>\n",
       "      <td>0.307692</td>\n",
       "      <td>0.481481</td>\n",
       "      <td>1</td>\n",
       "    </tr>\n",
       "    <tr>\n",
       "      <th>2</th>\n",
       "      <td>0.454545</td>\n",
       "      <td>1</td>\n",
       "      <td>0.846154</td>\n",
       "      <td>0.153846</td>\n",
       "      <td>0.000000</td>\n",
       "      <td>0.230769</td>\n",
       "      <td>0</td>\n",
       "      <td>2</td>\n",
       "      <td>0</td>\n",
       "      <td>0.500000</td>\n",
       "      <td>1</td>\n",
       "      <td>1.00000</td>\n",
       "      <td>0.00000</td>\n",
       "      <td>0.212121</td>\n",
       "      <td>0.702128</td>\n",
       "      <td>1</td>\n",
       "    </tr>\n",
       "  </tbody>\n",
       "</table>\n",
       "</div>"
      ],
      "text/plain": [
       "         0   1         2         3         4         5   6   7   8         9   \\\n",
       "0  0.200000   1  0.600000  0.400000  0.500000  0.600000   0   1   0  0.777778   \n",
       "1  0.300000   0  0.175439  0.824561  0.347826  0.403509   0   1   0  0.000000   \n",
       "2  0.454545   1  0.846154  0.153846  0.000000  0.230769   0   2   0  0.500000   \n",
       "\n",
       "   10       11       12        13        14  15  \n",
       "0   1  0.50000  0.50000  0.375000  1.000000   1  \n",
       "1   0  0.12963  0.87037  0.307692  0.481481   1  \n",
       "2   1  1.00000  0.00000  0.212121  0.702128   1  "
      ]
     },
     "execution_count": 14,
     "metadata": {},
     "output_type": "execute_result"
    }
   ],
   "source": [
    "hi = pd.read_csv('experiences.csv', header=None)\n",
    "hi.head()"
   ]
  },
  {
   "cell_type": "code",
   "execution_count": 2,
   "metadata": {
    "collapsed": true
   },
   "outputs": [],
   "source": [
    "m_path = 'model.h5'\n",
    "tr_model, ta_model = load_models(m_path)\n",
    "data_gen = load_data('experiences.csv',ta_model,10,chunksize)\n",
    "#train(tr_model,data_gen,10,1,m_path)"
   ]
  },
  {
   "cell_type": "code",
   "execution_count": null,
   "metadata": {
    "collapsed": true
   },
   "outputs": [],
   "source": []
  }
 ],
 "metadata": {
  "kernelspec": {
   "display_name": "Python 2",
   "language": "python",
   "name": "python2"
  },
  "language_info": {
   "codemirror_mode": {
    "name": "ipython",
    "version": 2
   },
   "file_extension": ".py",
   "mimetype": "text/x-python",
   "name": "python",
   "nbconvert_exporter": "python",
   "pygments_lexer": "ipython2",
   "version": "2.7.12"
  }
 },
 "nbformat": 4,
 "nbformat_minor": 1
}
