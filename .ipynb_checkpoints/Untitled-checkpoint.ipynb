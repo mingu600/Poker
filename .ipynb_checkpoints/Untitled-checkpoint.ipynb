{
 "cells": [
  {
   "cell_type": "code",
   "execution_count": 1,
   "metadata": {
    "collapsed": false
   },
   "outputs": [
    {
     "name": "stderr",
     "output_type": "stream",
     "text": [
      "Using TensorFlow backend.\n"
     ]
    }
   ],
   "source": [
    "#USAGE python exp_replay.py model_path experiences_path\n",
    "\n",
    "# Imports\n",
    "import numpy as np\n",
    "import numpy.random as npr\n",
    "import pandas as pd\n",
    "import math\n",
    "import csv\n",
    "from keras.models import load_model\n",
    "from keras.models import Sequential\n",
    "from keras.layers import Dense, Activation\n",
    "import sys\n",
    "import pdb\n",
    "\n",
    "action = 7\n",
    "reward = 8\n",
    "columns = 15\n",
    "chunksize =40\n",
    "file_size = 1000\n",
    "\n",
    "def load_models(model_path):\n",
    "    training_model = load_model(model_path)\n",
    "    target_model = load_model(model_path)\n",
    "    return (training_model, target_model)\n",
    "\n",
    "def load_data(experiences_path,target_model,epochs,chunksize):\n",
    "\n",
    "#iterate over dataset a certain number of times\n",
    "    for epoch in range(epochs):\n",
    "        #read in data in chunks\n",
    "        df = pd.read_table(experiences_path,chunksize=chunksize)\n",
    "        for chunk in df:\n",
    "\n",
    "            #separate into end-of-hand and not end-of-hand states\n",
    "            chunk.iloc[:,reward] = chunk.iloc[:,reward] + (0 if chunk.iloc[:,reward+1].isNull() else ndarray.max(target_model.predict_on_batch(chunk.iloc[:,reward+1:]),axis=1))\n",
    "            cols = list(chunk.columns)\n",
    "            yield (chunk.iloc[:,:action].values,chunk.iloc[:,[action,reward]].values)\n",
    "\n",
    "def train(train_model,data_gen,epochs,batches,m_path):\n",
    "    for epoch in range(epochs):\n",
    "        for batch in range(batches):\n",
    "            b = next(data_gen)\n",
    "            labels = train_model.predict_on_batch(b[0])\n",
    "            labels[b[1][:,0]] = b[1][:,1]\n",
    "            train_model.train_on_batch(b[0],labels, verbose=1)\n",
    "    model.save(m_path)\n",
    "\n"
   ]
  },
  {
   "cell_type": "code",
   "execution_count": null,
   "metadata": {
    "collapsed": true
   },
   "outputs": [],
   "source": [
    "m_path = 'model.h5'\n",
    "tr_model, ta_model = load_models(m_path)\n",
    "data_gen = load_data(sys.argv[2],ta_model,10,chunksize)\n",
    "train(tr_model,data_gen,10,1,m_path)"
   ]
  }
 ],
 "metadata": {
  "kernelspec": {
   "display_name": "Python 2",
   "language": "python",
   "name": "python2"
  },
  "language_info": {
   "codemirror_mode": {
    "name": "ipython",
    "version": 2
   },
   "file_extension": ".py",
   "mimetype": "text/x-python",
   "name": "python",
   "nbconvert_exporter": "python",
   "pygments_lexer": "ipython2",
   "version": "2.7.12"
  }
 },
 "nbformat": 4,
 "nbformat_minor": 1
}
